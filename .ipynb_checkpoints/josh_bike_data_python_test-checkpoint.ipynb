{
 "metadata": {
  "name": ""
 },
 "nbformat": 3,
 "nbformat_minor": 0,
 "worksheets": [
  {
   "cells": [
    {
     "cell_type": "code",
     "collapsed": false,
     "input": [
      "import pandas as pd\n",
      "import numpy as np\n",
      "import matplotlib.pyplot as plt"
     ],
     "language": "python",
     "metadata": {},
     "outputs": [
      {
       "output_type": "stream",
       "stream": "stderr",
       "text": [
        "/Users/johnkabler/anaconda/lib/python2.7/site-packages/pytz/__init__.py:35: UserWarning: Module argparse was already imported from /Users/johnkabler/anaconda/python.app/Contents/lib/python2.7/argparse.pyc, but /Users/johnkabler/anaconda/lib/python2.7/site-packages is being added to sys.path\n",
        "  from pkg_resources import resource_stream\n"
       ]
      }
     ],
     "prompt_number": 1
    },
    {
     "cell_type": "code",
     "collapsed": false,
     "input": [
      "%pylab inline"
     ],
     "language": "python",
     "metadata": {},
     "outputs": [
      {
       "output_type": "stream",
       "stream": "stdout",
       "text": [
        "Populating the interactive namespace from numpy and matplotlib\n"
       ]
      }
     ],
     "prompt_number": 2
    },
    {
     "cell_type": "code",
     "collapsed": false,
     "input": [
      "mtutest = pd.read_csv('originalARLdata.csv')"
     ],
     "language": "python",
     "metadata": {},
     "outputs": [],
     "prompt_number": 3
    },
    {
     "cell_type": "code",
     "collapsed": false,
     "input": [
      "mtutest[:200]"
     ],
     "language": "python",
     "metadata": {},
     "outputs": [
      {
       "html": [
        "<pre>\n",
        "&lt;class 'pandas.core.frame.DataFrame'&gt;\n",
        "Int64Index: 200 entries, 0 to 199\n",
        "Data columns (total 13 columns):\n",
        "Unnamed: 0    200  non-null values\n",
        "Date          200  non-null values\n",
        "time          200  non-null values\n",
        "Total         200  non-null values\n",
        "PedIN         200  non-null values\n",
        "PedOUT        200  non-null values\n",
        "BikeIN        200  non-null values\n",
        "BikeOUT       200  non-null values\n",
        "Location      200  non-null values\n",
        "PedTOTAL      200  non-null values\n",
        "BikeTOTAL     200  non-null values\n",
        "TotalOUT      200  non-null values\n",
        "TotalIN       200  non-null values\n",
        "dtypes: float64(9), int64(1), object(3)\n",
        "</pre>"
       ],
       "metadata": {},
       "output_type": "pyout",
       "prompt_number": 4,
       "text": [
        "<class 'pandas.core.frame.DataFrame'>\n",
        "Int64Index: 200 entries, 0 to 199\n",
        "Data columns (total 13 columns):\n",
        "Unnamed: 0    200  non-null values\n",
        "Date          200  non-null values\n",
        "time          200  non-null values\n",
        "Total         200  non-null values\n",
        "PedIN         200  non-null values\n",
        "PedOUT        200  non-null values\n",
        "BikeIN        200  non-null values\n",
        "BikeOUT       200  non-null values\n",
        "Location      200  non-null values\n",
        "PedTOTAL      200  non-null values\n",
        "BikeTOTAL     200  non-null values\n",
        "TotalOUT      200  non-null values\n",
        "TotalIN       200  non-null values\n",
        "dtypes: float64(9), int64(1), object(3)"
       ]
      }
     ],
     "prompt_number": 4
    },
    {
     "cell_type": "code",
     "collapsed": false,
     "input": [
      "mtutest = pd.read_csv('originalARLdata.csv', parse_dates = [['Date','time']], dayfirst=True, index_col='Date_time')\n",
      "\n",
      "#Here we are now going to pull 'Date' and 'time' into the parse_dates option. \n",
      "#Pandas automatically turns it into a single column called Date_time (notice how it just merges the two\n",
      "#names with an _ in between).  "
     ],
     "language": "python",
     "metadata": {},
     "outputs": [],
     "prompt_number": 11
    },
    {
     "cell_type": "code",
     "collapsed": false,
     "input": [
      "mtutest[:10]"
     ],
     "language": "python",
     "metadata": {},
     "outputs": [
      {
       "html": [
        "<div style=\"max-height:1000px;max-width:1500px;overflow:auto;\">\n",
        "<table border=\"1\" class=\"dataframe\">\n",
        "  <thead>\n",
        "    <tr style=\"text-align: right;\">\n",
        "      <th></th>\n",
        "      <th>Unnamed: 0</th>\n",
        "      <th>Total</th>\n",
        "      <th>PedIN</th>\n",
        "      <th>PedOUT</th>\n",
        "      <th>BikeIN</th>\n",
        "      <th>BikeOUT</th>\n",
        "      <th>Location</th>\n",
        "      <th>PedTOTAL</th>\n",
        "      <th>BikeTOTAL</th>\n",
        "      <th>TotalOUT</th>\n",
        "      <th>TotalIN</th>\n",
        "    </tr>\n",
        "    <tr>\n",
        "      <th>Date_time</th>\n",
        "      <th></th>\n",
        "      <th></th>\n",
        "      <th></th>\n",
        "      <th></th>\n",
        "      <th></th>\n",
        "      <th></th>\n",
        "      <th></th>\n",
        "      <th></th>\n",
        "      <th></th>\n",
        "      <th></th>\n",
        "      <th></th>\n",
        "    </tr>\n",
        "  </thead>\n",
        "  <tbody>\n",
        "    <tr>\n",
        "      <th>2011-09-02 00:00:00</th>\n",
        "      <td>  97</td>\n",
        "      <td> 1</td>\n",
        "      <td> 0</td>\n",
        "      <td> 0</td>\n",
        "      <td> 0</td>\n",
        "      <td> 1</td>\n",
        "      <td> MVT_Airport_S</td>\n",
        "      <td> 0</td>\n",
        "      <td> 1</td>\n",
        "      <td> 1</td>\n",
        "      <td> 0</td>\n",
        "    </tr>\n",
        "    <tr>\n",
        "      <th>2011-09-02 00:15:00</th>\n",
        "      <td>  98</td>\n",
        "      <td> 0</td>\n",
        "      <td> 0</td>\n",
        "      <td> 0</td>\n",
        "      <td> 0</td>\n",
        "      <td> 0</td>\n",
        "      <td> MVT_Airport_S</td>\n",
        "      <td> 0</td>\n",
        "      <td> 0</td>\n",
        "      <td> 0</td>\n",
        "      <td> 0</td>\n",
        "    </tr>\n",
        "    <tr>\n",
        "      <th>2011-09-02 00:30:00</th>\n",
        "      <td>  99</td>\n",
        "      <td> 1</td>\n",
        "      <td> 0</td>\n",
        "      <td> 0</td>\n",
        "      <td> 0</td>\n",
        "      <td> 1</td>\n",
        "      <td> MVT_Airport_S</td>\n",
        "      <td> 0</td>\n",
        "      <td> 1</td>\n",
        "      <td> 1</td>\n",
        "      <td> 0</td>\n",
        "    </tr>\n",
        "    <tr>\n",
        "      <th>2011-09-02 00:45:00</th>\n",
        "      <td> 100</td>\n",
        "      <td> 0</td>\n",
        "      <td> 0</td>\n",
        "      <td> 0</td>\n",
        "      <td> 0</td>\n",
        "      <td> 0</td>\n",
        "      <td> MVT_Airport_S</td>\n",
        "      <td> 0</td>\n",
        "      <td> 0</td>\n",
        "      <td> 0</td>\n",
        "      <td> 0</td>\n",
        "    </tr>\n",
        "    <tr>\n",
        "      <th>2011-09-02 01:00:00</th>\n",
        "      <td> 101</td>\n",
        "      <td> 0</td>\n",
        "      <td> 0</td>\n",
        "      <td> 0</td>\n",
        "      <td> 0</td>\n",
        "      <td> 0</td>\n",
        "      <td> MVT_Airport_S</td>\n",
        "      <td> 0</td>\n",
        "      <td> 0</td>\n",
        "      <td> 0</td>\n",
        "      <td> 0</td>\n",
        "    </tr>\n",
        "    <tr>\n",
        "      <th>2011-09-02 01:15:00</th>\n",
        "      <td> 102</td>\n",
        "      <td> 0</td>\n",
        "      <td> 0</td>\n",
        "      <td> 0</td>\n",
        "      <td> 0</td>\n",
        "      <td> 0</td>\n",
        "      <td> MVT_Airport_S</td>\n",
        "      <td> 0</td>\n",
        "      <td> 0</td>\n",
        "      <td> 0</td>\n",
        "      <td> 0</td>\n",
        "    </tr>\n",
        "    <tr>\n",
        "      <th>2011-09-02 01:30:00</th>\n",
        "      <td> 103</td>\n",
        "      <td> 2</td>\n",
        "      <td> 0</td>\n",
        "      <td> 0</td>\n",
        "      <td> 1</td>\n",
        "      <td> 1</td>\n",
        "      <td> MVT_Airport_S</td>\n",
        "      <td> 0</td>\n",
        "      <td> 2</td>\n",
        "      <td> 1</td>\n",
        "      <td> 1</td>\n",
        "    </tr>\n",
        "    <tr>\n",
        "      <th>2011-09-02 01:45:00</th>\n",
        "      <td> 104</td>\n",
        "      <td> 0</td>\n",
        "      <td> 0</td>\n",
        "      <td> 0</td>\n",
        "      <td> 0</td>\n",
        "      <td> 0</td>\n",
        "      <td> MVT_Airport_S</td>\n",
        "      <td> 0</td>\n",
        "      <td> 0</td>\n",
        "      <td> 0</td>\n",
        "      <td> 0</td>\n",
        "    </tr>\n",
        "    <tr>\n",
        "      <th>2011-09-02 02:00:00</th>\n",
        "      <td> 105</td>\n",
        "      <td> 0</td>\n",
        "      <td> 0</td>\n",
        "      <td> 0</td>\n",
        "      <td> 0</td>\n",
        "      <td> 0</td>\n",
        "      <td> MVT_Airport_S</td>\n",
        "      <td> 0</td>\n",
        "      <td> 0</td>\n",
        "      <td> 0</td>\n",
        "      <td> 0</td>\n",
        "    </tr>\n",
        "    <tr>\n",
        "      <th>2011-09-02 02:15:00</th>\n",
        "      <td> 106</td>\n",
        "      <td> 0</td>\n",
        "      <td> 0</td>\n",
        "      <td> 0</td>\n",
        "      <td> 0</td>\n",
        "      <td> 0</td>\n",
        "      <td> MVT_Airport_S</td>\n",
        "      <td> 0</td>\n",
        "      <td> 0</td>\n",
        "      <td> 0</td>\n",
        "      <td> 0</td>\n",
        "    </tr>\n",
        "  </tbody>\n",
        "</table>\n",
        "</div>"
       ],
       "metadata": {},
       "output_type": "pyout",
       "prompt_number": 12,
       "text": [
        "                     Unnamed: 0  Total  PedIN  PedOUT  BikeIN  BikeOUT  \\\n",
        "Date_time                                                                \n",
        "2011-09-02 00:00:00          97      1      0       0       0        1   \n",
        "2011-09-02 00:15:00          98      0      0       0       0        0   \n",
        "2011-09-02 00:30:00          99      1      0       0       0        1   \n",
        "2011-09-02 00:45:00         100      0      0       0       0        0   \n",
        "2011-09-02 01:00:00         101      0      0       0       0        0   \n",
        "2011-09-02 01:15:00         102      0      0       0       0        0   \n",
        "2011-09-02 01:30:00         103      2      0       0       1        1   \n",
        "2011-09-02 01:45:00         104      0      0       0       0        0   \n",
        "2011-09-02 02:00:00         105      0      0       0       0        0   \n",
        "2011-09-02 02:15:00         106      0      0       0       0        0   \n",
        "\n",
        "                          Location  PedTOTAL  BikeTOTAL  TotalOUT  TotalIN  \n",
        "Date_time                                                                   \n",
        "2011-09-02 00:00:00  MVT_Airport_S         0          1         1        0  \n",
        "2011-09-02 00:15:00  MVT_Airport_S         0          0         0        0  \n",
        "2011-09-02 00:30:00  MVT_Airport_S         0          1         1        0  \n",
        "2011-09-02 00:45:00  MVT_Airport_S         0          0         0        0  \n",
        "2011-09-02 01:00:00  MVT_Airport_S         0          0         0        0  \n",
        "2011-09-02 01:15:00  MVT_Airport_S         0          0         0        0  \n",
        "2011-09-02 01:30:00  MVT_Airport_S         0          2         1        1  \n",
        "2011-09-02 01:45:00  MVT_Airport_S         0          0         0        0  \n",
        "2011-09-02 02:00:00  MVT_Airport_S         0          0         0        0  \n",
        "2011-09-02 02:15:00  MVT_Airport_S         0          0         0        0  "
       ]
      }
     ],
     "prompt_number": 12
    },
    {
     "cell_type": "code",
     "collapsed": false,
     "input": [
      "mtutest = mtutest.drop(['Unnamed: 0'], axis=1)"
     ],
     "language": "python",
     "metadata": {},
     "outputs": [],
     "prompt_number": 13
    },
    {
     "cell_type": "code",
     "collapsed": false,
     "input": [
      "mtutest[:5]"
     ],
     "language": "python",
     "metadata": {},
     "outputs": [
      {
       "html": [
        "<div style=\"max-height:1000px;max-width:1500px;overflow:auto;\">\n",
        "<table border=\"1\" class=\"dataframe\">\n",
        "  <thead>\n",
        "    <tr style=\"text-align: right;\">\n",
        "      <th></th>\n",
        "      <th>Total</th>\n",
        "      <th>PedIN</th>\n",
        "      <th>PedOUT</th>\n",
        "      <th>BikeIN</th>\n",
        "      <th>BikeOUT</th>\n",
        "      <th>Location</th>\n",
        "      <th>PedTOTAL</th>\n",
        "      <th>BikeTOTAL</th>\n",
        "      <th>TotalOUT</th>\n",
        "      <th>TotalIN</th>\n",
        "    </tr>\n",
        "    <tr>\n",
        "      <th>Date_time</th>\n",
        "      <th></th>\n",
        "      <th></th>\n",
        "      <th></th>\n",
        "      <th></th>\n",
        "      <th></th>\n",
        "      <th></th>\n",
        "      <th></th>\n",
        "      <th></th>\n",
        "      <th></th>\n",
        "      <th></th>\n",
        "    </tr>\n",
        "  </thead>\n",
        "  <tbody>\n",
        "    <tr>\n",
        "      <th>2009-10-16 00:00:00</th>\n",
        "      <td> 0</td>\n",
        "      <td>NaN</td>\n",
        "      <td>NaN</td>\n",
        "      <td>NaN</td>\n",
        "      <td>NaN</td>\n",
        "      <td> Custis_Rosslyn</td>\n",
        "      <td> 0</td>\n",
        "      <td> 0</td>\n",
        "      <td>NaN</td>\n",
        "      <td>NaN</td>\n",
        "    </tr>\n",
        "    <tr>\n",
        "      <th>2009-10-16 00:15:00</th>\n",
        "      <td> 0</td>\n",
        "      <td>NaN</td>\n",
        "      <td>NaN</td>\n",
        "      <td>NaN</td>\n",
        "      <td>NaN</td>\n",
        "      <td> Custis_Rosslyn</td>\n",
        "      <td> 0</td>\n",
        "      <td> 0</td>\n",
        "      <td>NaN</td>\n",
        "      <td>NaN</td>\n",
        "    </tr>\n",
        "    <tr>\n",
        "      <th>2009-10-16 00:30:00</th>\n",
        "      <td> 0</td>\n",
        "      <td>NaN</td>\n",
        "      <td>NaN</td>\n",
        "      <td>NaN</td>\n",
        "      <td>NaN</td>\n",
        "      <td> Custis_Rosslyn</td>\n",
        "      <td> 0</td>\n",
        "      <td> 0</td>\n",
        "      <td>NaN</td>\n",
        "      <td>NaN</td>\n",
        "    </tr>\n",
        "    <tr>\n",
        "      <th>2009-10-16 00:45:00</th>\n",
        "      <td> 0</td>\n",
        "      <td>NaN</td>\n",
        "      <td>NaN</td>\n",
        "      <td>NaN</td>\n",
        "      <td>NaN</td>\n",
        "      <td> Custis_Rosslyn</td>\n",
        "      <td> 0</td>\n",
        "      <td> 0</td>\n",
        "      <td>NaN</td>\n",
        "      <td>NaN</td>\n",
        "    </tr>\n",
        "    <tr>\n",
        "      <th>2009-10-16 01:00:00</th>\n",
        "      <td> 0</td>\n",
        "      <td>NaN</td>\n",
        "      <td>NaN</td>\n",
        "      <td>NaN</td>\n",
        "      <td>NaN</td>\n",
        "      <td> Custis_Rosslyn</td>\n",
        "      <td> 0</td>\n",
        "      <td> 0</td>\n",
        "      <td>NaN</td>\n",
        "      <td>NaN</td>\n",
        "    </tr>\n",
        "  </tbody>\n",
        "</table>\n",
        "</div>"
       ],
       "metadata": {},
       "output_type": "pyout",
       "prompt_number": 22,
       "text": [
        "                     Total  PedIN  PedOUT  BikeIN  BikeOUT        Location  \\\n",
        "Date_time                                                                    \n",
        "2009-10-16 00:00:00      0    NaN     NaN     NaN      NaN  Custis_Rosslyn   \n",
        "2009-10-16 00:15:00      0    NaN     NaN     NaN      NaN  Custis_Rosslyn   \n",
        "2009-10-16 00:30:00      0    NaN     NaN     NaN      NaN  Custis_Rosslyn   \n",
        "2009-10-16 00:45:00      0    NaN     NaN     NaN      NaN  Custis_Rosslyn   \n",
        "2009-10-16 01:00:00      0    NaN     NaN     NaN      NaN  Custis_Rosslyn   \n",
        "\n",
        "                     PedTOTAL  BikeTOTAL  TotalOUT  TotalIN  \n",
        "Date_time                                                    \n",
        "2009-10-16 00:00:00         0          0       NaN      NaN  \n",
        "2009-10-16 00:15:00         0          0       NaN      NaN  \n",
        "2009-10-16 00:30:00         0          0       NaN      NaN  \n",
        "2009-10-16 00:45:00         0          0       NaN      NaN  \n",
        "2009-10-16 01:00:00         0          0       NaN      NaN  "
       ]
      }
     ],
     "prompt_number": 22
    },
    {
     "cell_type": "code",
     "collapsed": false,
     "input": [
      "mtutest = mtutest.sort_index()"
     ],
     "language": "python",
     "metadata": {},
     "outputs": [],
     "prompt_number": 15
    },
    {
     "cell_type": "code",
     "collapsed": false,
     "input": [
      "mtutest['BikeOUT'].plot()"
     ],
     "language": "python",
     "metadata": {},
     "outputs": [
      {
       "metadata": {},
       "output_type": "pyout",
       "prompt_number": 17,
       "text": [
        "<matplotlib.axes.AxesSubplot at 0x10bc34910>"
       ]
      },
      {
       "metadata": {},
       "output_type": "display_data",
       "png": "[encoded data removed]",
       "text": [
        "<matplotlib.figure.Figure at 0x10bc34390>"
       ]
      }
     ],
     "prompt_number": 17
    },
    {
     "cell_type": "code",
     "collapsed": false,
     "input": [
      "mtutest['BikeTOTAL']"
     ],
     "language": "python",
     "metadata": {},
     "outputs": [
      {
       "metadata": {},
       "output_type": "pyout",
       "prompt_number": 18,
       "text": [
        "Date_time\n",
        "2009-10-16 00:00:00    0\n",
        "2009-10-16 00:15:00    0\n",
        "2009-10-16 00:30:00    0\n",
        "2009-10-16 00:45:00    0\n",
        "2009-10-16 01:00:00    0\n",
        "2009-10-16 01:15:00    0\n",
        "2009-10-16 01:30:00    0\n",
        "2009-10-16 01:45:00    0\n",
        "2009-10-16 02:00:00    0\n",
        "2009-10-16 02:15:00    0\n",
        "2009-10-16 02:30:00    0\n",
        "2009-10-16 02:45:00    0\n",
        "2009-10-16 03:00:00    0\n",
        "2009-10-16 03:15:00    0\n",
        "2009-10-16 03:30:00    0\n",
        "...\n",
        "2013-12-31 23:30:00     0\n",
        "2013-12-31 23:30:00     0\n",
        "2013-12-31 23:30:00     0\n",
        "2013-12-31 23:45:00     0\n",
        "2013-12-31 23:45:00     0\n",
        "2013-12-31 23:45:00     0\n",
        "2013-12-31 23:45:00     1\n",
        "2013-12-31 23:45:00     0\n",
        "2013-12-31 23:45:00     0\n",
        "2013-12-31 23:45:00     0\n",
        "2013-12-31 23:45:00   NaN\n",
        "2013-12-31 23:45:00   NaN\n",
        "2013-12-31 23:45:00     0\n",
        "2013-12-31 23:45:00     2\n",
        "2013-12-31 23:45:00     0\n",
        "Name: BikeTOTAL, Length: 1090848, dtype: float64"
       ]
      }
     ],
     "prompt_number": 18
    },
    {
     "cell_type": "code",
     "collapsed": false,
     "input": [
      "mtutest['BikeTOTAL'].plot()"
     ],
     "language": "python",
     "metadata": {},
     "outputs": [
      {
       "metadata": {},
       "output_type": "pyout",
       "prompt_number": 19,
       "text": [
        "<matplotlib.axes.AxesSubplot at 0x112744210>"
       ]
      },
      {
       "metadata": {},
       "output_type": "display_data",
       "png": "[encoded data removed]",
       "text": [
        "<matplotlib.figure.Figure at 0x10f82fdd0>"
       ]
      }
     ],
     "prompt_number": 19
    },
    {
     "cell_type": "markdown",
     "metadata": {},
     "source": [
      "Wow.. not very useful huh?  Luckily this is a test, and once we load John's cleaned up data, should be more straightforward.."
     ]
    },
    {
     "cell_type": "code",
     "collapsed": false,
     "input": [
      "mtutest[:3]"
     ],
     "language": "python",
     "metadata": {},
     "outputs": [
      {
       "html": [
        "<div style=\"max-height:1000px;max-width:1500px;overflow:auto;\">\n",
        "<table border=\"1\" class=\"dataframe\">\n",
        "  <thead>\n",
        "    <tr style=\"text-align: right;\">\n",
        "      <th></th>\n",
        "      <th>Total</th>\n",
        "      <th>PedIN</th>\n",
        "      <th>PedOUT</th>\n",
        "      <th>BikeIN</th>\n",
        "      <th>BikeOUT</th>\n",
        "      <th>Location</th>\n",
        "      <th>PedTOTAL</th>\n",
        "      <th>BikeTOTAL</th>\n",
        "      <th>TotalOUT</th>\n",
        "      <th>TotalIN</th>\n",
        "    </tr>\n",
        "    <tr>\n",
        "      <th>Date_time</th>\n",
        "      <th></th>\n",
        "      <th></th>\n",
        "      <th></th>\n",
        "      <th></th>\n",
        "      <th></th>\n",
        "      <th></th>\n",
        "      <th></th>\n",
        "      <th></th>\n",
        "      <th></th>\n",
        "      <th></th>\n",
        "    </tr>\n",
        "  </thead>\n",
        "  <tbody>\n",
        "    <tr>\n",
        "      <th>2009-10-16 00:00:00</th>\n",
        "      <td> 0</td>\n",
        "      <td>NaN</td>\n",
        "      <td>NaN</td>\n",
        "      <td>NaN</td>\n",
        "      <td>NaN</td>\n",
        "      <td> Custis_Rosslyn</td>\n",
        "      <td> 0</td>\n",
        "      <td> 0</td>\n",
        "      <td>NaN</td>\n",
        "      <td>NaN</td>\n",
        "    </tr>\n",
        "    <tr>\n",
        "      <th>2009-10-16 00:15:00</th>\n",
        "      <td> 0</td>\n",
        "      <td>NaN</td>\n",
        "      <td>NaN</td>\n",
        "      <td>NaN</td>\n",
        "      <td>NaN</td>\n",
        "      <td> Custis_Rosslyn</td>\n",
        "      <td> 0</td>\n",
        "      <td> 0</td>\n",
        "      <td>NaN</td>\n",
        "      <td>NaN</td>\n",
        "    </tr>\n",
        "    <tr>\n",
        "      <th>2009-10-16 00:30:00</th>\n",
        "      <td> 0</td>\n",
        "      <td>NaN</td>\n",
        "      <td>NaN</td>\n",
        "      <td>NaN</td>\n",
        "      <td>NaN</td>\n",
        "      <td> Custis_Rosslyn</td>\n",
        "      <td> 0</td>\n",
        "      <td> 0</td>\n",
        "      <td>NaN</td>\n",
        "      <td>NaN</td>\n",
        "    </tr>\n",
        "  </tbody>\n",
        "</table>\n",
        "</div>"
       ],
       "metadata": {},
       "output_type": "pyout",
       "prompt_number": 20,
       "text": [
        "                     Total  PedIN  PedOUT  BikeIN  BikeOUT        Location  \\\n",
        "Date_time                                                                    \n",
        "2009-10-16 00:00:00      0    NaN     NaN     NaN      NaN  Custis_Rosslyn   \n",
        "2009-10-16 00:15:00      0    NaN     NaN     NaN      NaN  Custis_Rosslyn   \n",
        "2009-10-16 00:30:00      0    NaN     NaN     NaN      NaN  Custis_Rosslyn   \n",
        "\n",
        "                     PedTOTAL  BikeTOTAL  TotalOUT  TotalIN  \n",
        "Date_time                                                    \n",
        "2009-10-16 00:00:00         0          0       NaN      NaN  \n",
        "2009-10-16 00:15:00         0          0       NaN      NaN  \n",
        "2009-10-16 00:30:00         0          0       NaN      NaN  "
       ]
      }
     ],
     "prompt_number": 20
    },
    {
     "cell_type": "markdown",
     "metadata": {},
     "source": [
      "Okay, so.. I need to make this stuff usable.."
     ]
    },
    {
     "cell_type": "code",
     "collapsed": false,
     "input": [
      "mtutest[['Total', 'Location']]"
     ],
     "language": "python",
     "metadata": {},
     "outputs": [
      {
       "html": [
        "<pre>\n",
        "&lt;class 'pandas.core.frame.DataFrame'&gt;\n",
        "DatetimeIndex: 1090848 entries, 2009-10-16 00:00:00 to 2013-12-31 23:45:00\n",
        "Data columns (total 2 columns):\n",
        "Total       994959  non-null values\n",
        "Location    1090848  non-null values\n",
        "dtypes: float64(1), object(1)\n",
        "</pre>"
       ],
       "metadata": {},
       "output_type": "pyout",
       "prompt_number": 26,
       "text": [
        "<class 'pandas.core.frame.DataFrame'>\n",
        "DatetimeIndex: 1090848 entries, 2009-10-16 00:00:00 to 2013-12-31 23:45:00\n",
        "Data columns (total 2 columns):\n",
        "Total       994959  non-null values\n",
        "Location    1090848  non-null values\n",
        "dtypes: float64(1), object(1)"
       ]
      }
     ],
     "prompt_number": 26
    },
    {
     "cell_type": "markdown",
     "metadata": {},
     "source": [
      "Lets start by figuring out the busiest days.."
     ]
    },
    {
     "cell_type": "code",
     "collapsed": false,
     "input": [
      "max(mtutest['Total'].value_counts())"
     ],
     "language": "python",
     "metadata": {},
     "outputs": [
      {
       "metadata": {},
       "output_type": "pyout",
       "prompt_number": 27,
       "text": [
        "259732"
       ]
      }
     ],
     "prompt_number": 27
    },
    {
     "cell_type": "markdown",
     "metadata": {},
     "source": [
      "Probably some anomalies up top right?"
     ]
    },
    {
     "cell_type": "code",
     "collapsed": false,
     "input": [
      "PedCounts = mtutest['PedTOTAL'].value_counts()"
     ],
     "language": "python",
     "metadata": {},
     "outputs": [],
     "prompt_number": 28
    },
    {
     "cell_type": "code",
     "collapsed": false,
     "input": [
      "PedCounts[:10]"
     ],
     "language": "python",
     "metadata": {},
     "outputs": [
      {
       "metadata": {},
       "output_type": "pyout",
       "prompt_number": 29,
       "text": [
        "0    309435\n",
        "1     89625\n",
        "2     61203\n",
        "3     49065\n",
        "4     42357\n",
        "5     36347\n",
        "6     32253\n",
        "7     28665\n",
        "8     25118\n",
        "9     21933\n",
        "dtype: int64"
       ]
      }
     ],
     "prompt_number": 29
    },
    {
     "cell_type": "code",
     "collapsed": false,
     "input": [
      "bikes = mtutest['BikeTOTAL']"
     ],
     "language": "python",
     "metadata": {},
     "outputs": [],
     "prompt_number": 30
    },
    {
     "cell_type": "code",
     "collapsed": false,
     "input": [
      "bikes.plot()"
     ],
     "language": "python",
     "metadata": {},
     "outputs": [
      {
       "metadata": {},
       "output_type": "pyout",
       "prompt_number": 31,
       "text": [
        "<matplotlib.axes.AxesSubplot at 0x112760cd0>"
       ]
      },
      {
       "metadata": {},
       "output_type": "display_data",
       "png": "[encoded data removed]",
       "text": [
        "<matplotlib.figure.Figure at 0x10709de50>"
       ]
      }
     ],
     "prompt_number": 31
    },
    {
     "cell_type": "code",
     "collapsed": false,
     "input": [
      "bikes.index"
     ],
     "language": "python",
     "metadata": {},
     "outputs": [
      {
       "metadata": {},
       "output_type": "pyout",
       "prompt_number": 97,
       "text": [
        "<class 'pandas.tseries.index.DatetimeIndex'>\n",
        "[2009-10-16 00:00:00, ..., 2013-12-31 00:00:00]\n",
        "Length: 1090848, Freq: None, Timezone: None"
       ]
      }
     ],
     "prompt_number": 97
    },
    {
     "cell_type": "code",
     "collapsed": false,
     "input": [
      "bikes.index.day"
     ],
     "language": "python",
     "metadata": {},
     "outputs": [
      {
       "metadata": {},
       "output_type": "pyout",
       "prompt_number": 98,
       "text": [
        "array([16, 16, 16, ..., 31, 31, 31], dtype=int32)"
       ]
      }
     ],
     "prompt_number": 98
    },
    {
     "cell_type": "code",
     "collapsed": false,
     "input": [
      "bikes.index.weekday"
     ],
     "language": "python",
     "metadata": {},
     "outputs": [
      {
       "metadata": {},
       "output_type": "pyout",
       "prompt_number": 99,
       "text": [
        "array([4, 4, 4, ..., 1, 1, 1], dtype=int32)"
       ]
      }
     ],
     "prompt_number": 99
    },
    {
     "cell_type": "code",
     "collapsed": false,
     "input": [
      "#bikes['newcolumn'] = bikes.index.date\n",
      "\n",
      "#Josh, the above won't work because bikes is not a dataframe.  bikes is a series object\n",
      "\n",
      "type(bikes)"
     ],
     "language": "python",
     "metadata": {},
     "outputs": [
      {
       "metadata": {},
       "output_type": "pyout",
       "prompt_number": 32,
       "text": [
        "pandas.core.series.TimeSeries"
       ]
      }
     ],
     "prompt_number": 32
    },
    {
     "cell_type": "code",
     "collapsed": false,
     "input": [
      "#bikes.add['newcolumn'] = bikes.index.date\n",
      "\n"
     ],
     "language": "python",
     "metadata": {},
     "outputs": [],
     "prompt_number": 33
    },
    {
     "cell_type": "code",
     "collapsed": false,
     "input": [
      "bikes[:100]"
     ],
     "language": "python",
     "metadata": {},
     "outputs": [
      {
       "metadata": {},
       "output_type": "pyout",
       "prompt_number": 48,
       "text": [
        "Date\n",
        "2009-01-11    1\n",
        "2009-01-11    0\n",
        "2009-01-11    0\n",
        "2009-01-11    0\n",
        "2009-01-11    0\n",
        "2009-01-11    0\n",
        "2009-01-11    1\n",
        "2009-01-11    0\n",
        "2009-01-11    1\n",
        "2009-01-11    1\n",
        "2009-01-11    0\n",
        "2009-01-11    1\n",
        "2009-01-11    0\n",
        "2009-01-11    0\n",
        "2009-01-11    0\n",
        "...\n",
        "2009-01-11    1\n",
        "2009-01-11    0\n",
        "2009-01-11    0\n",
        "2009-01-11    0\n",
        "2009-01-11    1\n",
        "2009-01-11    0\n",
        "2009-01-11    0\n",
        "2009-01-11    0\n",
        "2009-01-11    0\n",
        "2009-01-11    1\n",
        "2009-01-11    0\n",
        "2009-01-12    0\n",
        "2009-01-12    1\n",
        "2009-01-12    0\n",
        "2009-01-12    2\n",
        "Name: BikeTOTAL, Length: 100"
       ]
      }
     ],
     "prompt_number": 48
    },
    {
     "cell_type": "code",
     "collapsed": false,
     "input": [],
     "language": "python",
     "metadata": {},
     "outputs": []
    }
   ],
   "metadata": {}
  }
 ]
}